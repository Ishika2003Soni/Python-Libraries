{
 "cells": [
  {
   "cell_type": "markdown",
   "id": "4630fddb-a0ee-4dc5-b984-44dd598636b2",
   "metadata": {},
   "source": [
    "# PANDAS\n",
    "Pandas is a Python library used for data analysis and manipulation. \n",
    "It helps you work with tabular data (like Excel sheets or CSV files) in a super easy and powerful way.\n",
    "\n"
   ]
  },
  {
   "cell_type": "code",
   "execution_count": 7,
   "id": "a5b032a4-511e-4377-8e92-a1f0ccd2e686",
   "metadata": {},
   "outputs": [],
   "source": [
    "import pandas as pd\n",
    "import numpy as np"
   ]
  },
  {
   "cell_type": "markdown",
   "id": "e5367148-33cc-43b5-b9f1-8020e89e1ced",
   "metadata": {},
   "source": [
    "## Creating Data Structures\n",
    "Pandas has two main data structures:\n",
    "\n",
    "Series: A one-dimensional labeled array.\n",
    "DataFrame: A two-dimensional table-like structure."
   ]
  },
  {
   "cell_type": "code",
   "execution_count": 11,
   "id": "0a14ddf2-3961-4b54-8b5e-2377d97ee89f",
   "metadata": {},
   "outputs": [
    {
     "name": "stdout",
     "output_type": "stream",
     "text": [
      "a    10\n",
      "b    20\n",
      "c    30\n",
      "d    40\n",
      "dtype: int64\n",
      "      Name  Age\n",
      "0    Alice   25\n",
      "1      Bob   30\n",
      "2  Charlie   35\n"
     ]
    }
   ],
   "source": [
    "# Creating a Series\n",
    "s = pd.Series([10, 20, 30, 40], index=['a', 'b', 'c', 'd'])\n",
    "print(s)\n",
    "\n",
    "# Creating a DataFrame\n",
    "data = {'Name': ['Alice', 'Bob', 'Charlie'], 'Age': [25, 30, 35]}\n",
    "df = pd.DataFrame(data)\n",
    "print(df)"
   ]
  },
  {
   "cell_type": "code",
   "execution_count": 23,
   "id": "f7b9f310-9997-4fc7-8c10-4cfbb521f17a",
   "metadata": {},
   "outputs": [
    {
     "name": "stdout",
     "output_type": "stream",
     "text": [
      "      Name  Age City\n",
      "0    Alice   25   NY\n",
      "1      Bob   30   LA\n",
      "2  Charlie   35   SF\n",
      "3     Tork   20   IN\n",
      "4     Gill   17   DL\n",
      "5      Ben   23   NZ\n",
      "6     Cork   25   SA\n",
      "7     Tkin   27   CH\n",
      "8      Bin   43   HR\n",
      "9    Champ   32   WI\n"
     ]
    }
   ],
   "source": [
    "import pandas as pd\n",
    "# Sample DataFrame\n",
    "data = pd.DataFrame({'Name': ['Alice', 'Bob', 'Charlie','Tork','Gill','Ben','Cork','Tkin','Bin','Champ'],\n",
    "        'Age': [25, 30, 35, 20, 17, 23, 25, 27, 43, 32],\n",
    "        'City': ['NY', 'LA', 'SF', 'IN', 'DL', 'NZ', 'SA', 'CH', 'HR', 'WI']})\n",
    "print(data)"
   ]
  },
  {
   "cell_type": "code",
   "execution_count": 25,
   "id": "72fa77ab-2466-4199-ad35-169780e77bca",
   "metadata": {},
   "outputs": [
    {
     "name": "stdout",
     "output_type": "stream",
     "text": [
      "      Name  Age City\n",
      "0    Alice   25   NY\n",
      "1      Bob   30   LA\n",
      "2  Charlie   35   SF\n",
      "3     Tork   20   IN\n",
      "4     Gill   17   DL\n",
      "5      Ben   23   NZ\n",
      "6     Cork   25   SA\n",
      "7     Tkin   27   CH\n",
      "8      Bin   43   HR\n",
      "9    Champ   32   WI\n"
     ]
    }
   ],
   "source": [
    "# Create dataset\n",
    "import pandas as pd\n",
    "# Sample DataFrame\n",
    "data = pd.DataFrame({'Name': ['Alice', 'Bob', 'Charlie','Tork','Gill','Ben','Cork','Tkin','Bin','Champ'],\n",
    "        'Age': [25, 30, 35, 20, 17, 23, 25, 27, 43, 32],\n",
    "        'City': ['NY', 'LA', 'SF', 'IN', 'DL', 'NZ', 'SA', 'CH', 'HR', 'WI']})\n",
    "print(data)\n"
   ]
  },
  {
   "cell_type": "code",
   "execution_count": 27,
   "id": "e5f5a5a3-2e1b-4df4-9493-01d1162583b4",
   "metadata": {},
   "outputs": [
    {
     "name": "stdout",
     "output_type": "stream",
     "text": [
      "Name      0\n",
      "Age       2\n",
      "Salary    0\n",
      "dtype: int64\n"
     ]
    }
   ],
   "source": [
    "#Data cleaning\n",
    "#data frame\n",
    "import pandas as pd\n",
    "data=pd.DataFrame({\"Name\":[\"Ankit\",\"Navdeep\",\"Mohnish\",\"Ankit\",\"Ritesh\",\"Ishika\"],\n",
    "      \"Age\":[23,None,19,23,None,18],\n",
    "      \"Salary\":[2000,3000,8000,2000,5000,6000]})\n",
    "#print(data)\n",
    "print(data.isnull().sum())  # Count missing values per column\n",
    "\n"
   ]
  },
  {
   "cell_type": "code",
   "execution_count": 39,
   "id": "0574d907-12cc-46c6-9e2a-b761eb529de3",
   "metadata": {},
   "outputs": [
    {
     "name": "stdout",
     "output_type": "stream",
     "text": [
      "      Name   Age  Salary\n",
      "0    Ankit  23.0    2000\n",
      "1  Navdeep   NaN    3000\n",
      "2  Mohnish  19.0    8000\n",
      "3    Ankit  23.0    2000\n",
      "4   Ritesh   NaN    5000\n",
      "5   Ishika  18.0    6000\n",
      "\n",
      "Age column after filling missing values with 0:\n",
      "\n",
      " Filling  with Mean:\n",
      "0    23.00\n",
      "1    20.75\n",
      "2    19.00\n",
      "3    23.00\n",
      "4    20.75\n",
      "5    18.00\n",
      "Name: Age, dtype: float64\n",
      "\n",
      " Filling  with Median:\n",
      "0    23.0\n",
      "1    21.0\n",
      "2    19.0\n",
      "3    23.0\n",
      "4    21.0\n",
      "5    18.0\n",
      "Name: Age, dtype: float64\n",
      "\n",
      " Filling  with Mode:\n",
      "0    23.0\n",
      "1    23.0\n",
      "2    19.0\n",
      "3    23.0\n",
      "4    23.0\n",
      "5    18.0\n",
      "Name: Age, dtype: float64\n",
      "0    23.0\n",
      "1    23.0\n",
      "2    19.0\n",
      "3    23.0\n",
      "4    23.0\n",
      "5    18.0\n",
      "Name: Age, dtype: float64\n",
      "0    23.0\n",
      "1    19.0\n",
      "2    19.0\n",
      "3    23.0\n",
      "4    18.0\n",
      "5    18.0\n",
      "Name: Age, dtype: float64\n"
     ]
    },
    {
     "name": "stderr",
     "output_type": "stream",
     "text": [
      "C:\\Users\\chira\\AppData\\Local\\Temp\\ipykernel_18700\\2987939334.py:26: FutureWarning: Series.fillna with 'method' is deprecated and will raise in a future version. Use obj.ffill() or obj.bfill() instead.\n",
      "  print(data[\"Age\"].fillna(method=\"ffill\"))\n",
      "C:\\Users\\chira\\AppData\\Local\\Temp\\ipykernel_18700\\2987939334.py:29: FutureWarning: Series.fillna with 'method' is deprecated and will raise in a future version. Use obj.ffill() or obj.bfill() instead.\n",
      "  print(data[\"Age\"].fillna(method=\"bfill\"))\n"
     ]
    }
   ],
   "source": [
    "#Fill Missing Values with a Specific Value\n",
    "import pandas as pd\n",
    "data=pd.DataFrame({\"Name\":[\"Ankit\",\"Navdeep\",\"Mohnish\",\"Ankit\",\"Ritesh\",\"Ishika\"],\n",
    "      \"Age\":[23,None,19,23,None,18],\n",
    "      \"Salary\":[2000,3000,8000,2000,5000,6000]})\n",
    "print(data)\n",
    "\n",
    "print(\"\\nAge column after filling missing values with 0:\")\n",
    "#print(data.[\"Age\"].fillna(value=0)) \n",
    "#OR\n",
    "#print(data.fillna({'Age': '0'}))  # 👉 Replaces all missing values with 0.\n",
    "\n",
    "# Fill with Mean   # 👉 Replaces missing values with the average of all non-missing values.\n",
    "print(\"\\n Filling  with Mean:\")\n",
    "print(data[\"Age\"].fillna(data[\"Age\"].mean()))\n",
    "\n",
    "# Fill with Median  # 👉 Fills missing values with the middle value (when sorted).\n",
    "print(\"\\n Filling  with Median:\")\n",
    "print(data[\"Age\"].fillna(data[\"Age\"].median()))\n",
    "\n",
    "#Fill with Mode  # 👉 Uses the most frequently occurring value to fill missing data.\n",
    "print(\"\\n Filling  with Mode:\")\n",
    "print(data[\"Age\"].fillna(data[\"Age\"].mode()[0]))\n",
    "\n",
    "#Forward Fill (Fill with Previous Row's Value) # 👉 Fills missing value with the value just before it in the column.\n",
    "print(data[\"Age\"].fillna(method=\"ffill\"))\n",
    "\n",
    "#Backward Fill (Fill with Next Row's Value) # 👉 Fills missing value with the value just after it in the column.\n",
    "print(data[\"Age\"].fillna(method=\"bfill\"))\n"
   ]
  },
  {
   "cell_type": "code",
   "execution_count": 41,
   "id": "78a042f9-ecc3-4062-800a-f36e3acf9da8",
   "metadata": {},
   "outputs": [
    {
     "name": "stdout",
     "output_type": "stream",
     "text": [
      "Original Data:\n",
      "      Name   Age  Salary\n",
      "0    Ankit  23.0  2000.0\n",
      "1  Navdeep   NaN  3000.0\n",
      "2  Mohnish  19.0     NaN\n",
      "3    Ankit  23.0  2000.0\n",
      "4   Ritesh   NaN  5000.0\n",
      "5   Ishika  18.0  6000.0\n",
      "\n",
      "Missing Values Count:\n",
      "Name      0\n",
      "Age       2\n",
      "Salary    1\n",
      "dtype: int64\n",
      "\n",
      "Remove Rows with Empty Cells\n",
      "     Name   Age  Salary\n",
      "0   Ankit  23.0  2000.0\n",
      "3   Ankit  23.0  2000.0\n",
      "5  Ishika  18.0  6000.0\n",
      "\n",
      "Remove Columns with Empty Cells\n",
      "      Name\n",
      "0    Ankit\n",
      "1  Navdeep\n",
      "2  Mohnish\n",
      "3    Ankit\n",
      "4   Ritesh\n",
      "5   Ishika\n"
     ]
    }
   ],
   "source": [
    "# Cleaning Empty cells\n",
    "import pandas as pd\n",
    "\n",
    "# Creating DataFrame with empty (None) values\n",
    "data = pd.DataFrame({\n",
    "    \"Name\": [\"Ankit\", \"Navdeep\", \"Mohnish\", \"Ankit\", \"Ritesh\", \"Ishika\"],\n",
    "    \"Age\": [23, None, 19, 23, None, 18],  # Missing values (None)\n",
    "    \"Salary\": [2000, 3000, None, 2000, 5000, 6000]  # Missing value (None)\n",
    "})\n",
    "\n",
    "# Display DataFrame\n",
    "print(\"Original Data:\")\n",
    "print(data)\n",
    "\n",
    "# Check for missing values  # 👉 `.isnull().sum()` counts how many missing (NaN) values exist in each column.\n",
    "print(\"\\nMissing Values Count:\")\n",
    "print(data.isnull().sum()) \n",
    "\n",
    "#Remove Rows with Empty Cells # 👉 `.dropna()` removes rows that contain **any** missing (NaN) values. \n",
    "print(\"\\nRemove Rows with Empty Cells\")\n",
    "data_cleaned = data.dropna()  # Removes any row with at least one NaN value\n",
    "print(data_cleaned) \n",
    "\n",
    "#Remove Columns with Empty Cells  # 👉 `.dropna(axis=1)` removes columns that contain **any** missing (NaN) values.\n",
    "print(\"\\nRemove Columns with Empty Cells\")\n",
    "data_cleaned = data.dropna(axis=1)  # Removes any column with at least one NaN value\n",
    "print(data_cleaned)\n"
   ]
  },
  {
   "cell_type": "code",
   "execution_count": 43,
   "id": "6afa1625-bc4d-4f35-90fb-435d730ba382",
   "metadata": {},
   "outputs": [
    {
     "name": "stdout",
     "output_type": "stream",
     "text": [
      "Original Data:\n",
      "      Name   Age  Salary\n",
      "0    Ankit  23.0  2000.0\n",
      "1  Navdeep   NaN  3000.0\n",
      "2  Mohnish  19.0     NaN\n",
      "3    Ankit  23.0  2000.0\n",
      "4   Ritesh   NaN  5000.0\n",
      "5   Ishika  18.0  6000.0\n",
      "\n",
      "Remove Duplicates\n",
      "      Name   Age  Salary\n",
      "0    Ankit  23.0  2000.0\n",
      "1  Navdeep   NaN  3000.0\n",
      "2  Mohnish  19.0     NaN\n",
      "4   Ritesh   NaN  5000.0\n",
      "5   Ishika  18.0  6000.0\n"
     ]
    }
   ],
   "source": [
    "#Remove Duplicates\n",
    "import pandas as pd\n",
    "# Creating DataFrame with empty (None) values\n",
    "data = pd.DataFrame({\n",
    "    \"Name\": [\"Ankit\", \"Navdeep\", \"Mohnish\", \"Ankit\", \"Ritesh\", \"Ishika\"],\n",
    "    \"Age\": [23, None, 19, 23, None, 18],  # Missing values (None)\n",
    "    \"Salary\": [2000, 3000, None, 2000, 5000, 6000]  # Missing value (None)\n",
    "})\n",
    "# Display DataFrame\n",
    "print(\"Original Data:\")\n",
    "print(data)\n",
    "# Remove Duplicates\n",
    "print(\"\\nRemove Duplicates\")\n",
    "print(data.drop_duplicates())  #The duplicate row with \"Ankit\" is removed.# 👉 `.drop_duplicates()` removes exact duplicate rows (all column values must match).\n"
   ]
  },
  {
   "cell_type": "code",
   "execution_count": 57,
   "id": "494b59fd-5768-44d0-9b9a-0d01c0eeaf44",
   "metadata": {},
   "outputs": [
    {
     "name": "stdout",
     "output_type": "stream",
     "text": [
      "Before Cleaning:\n",
      "Name      object\n",
      "Age       object\n",
      "Salary    object\n",
      "Date      object\n",
      "dtype: object\n",
      "\n",
      "Convert Age & Salary to Numeric Format\n",
      "\n",
      "After Converting Age & Salary to Numeric:\n",
      "      Name   Age  Salary        Date\n",
      "0    Ankit  23.0  2000.0  2024-01-01\n",
      "1  Navdeep   NaN  3000.0  2024-02-15\n",
      "2  Mohnish  19.0     NaN  15-03-2024\n",
      "3    Ankit   NaN  2000.0  2024/04/10\n",
      "4   Ritesh   NaN  5000.0        None\n",
      "5   Ishika  18.0  6000.0  2024-06-20\n",
      "\n",
      "Convert Date Column to Proper Date Format\n",
      "\n",
      "After Converting Date Column:\n",
      "      Name   Age  Salary       Date\n",
      "0    Ankit  23.0  2000.0 2024-01-01\n",
      "1  Navdeep   NaN  3000.0        NaT\n",
      "2  Mohnish  19.0     NaN        NaT\n",
      "3    Ankit   NaN  2000.0        NaT\n",
      "4   Ritesh   NaN  5000.0        NaT\n",
      "5   Ishika  18.0  6000.0        NaT\n",
      "\n",
      "After Removing Rows with Wrong Data:\n",
      "    Name   Age  Salary       Date\n",
      "0  Ankit  23.0  2000.0 2024-01-01\n"
     ]
    }
   ],
   "source": [
    "import pandas as pd\n",
    "\n",
    "# Creating a sample DataFrame with incorrect formats\n",
    "data = pd.DataFrame({\n",
    "    \"Name\": [\"Ankit\", \"Navdeep\", \"Mohnish\", \"Ankit\", \"Ritesh\", \"Ishika\"],\n",
    "    \"Age\": [\"23\", None, \"19\", \"twenty\", None, \"18\"],  # Some incorrect values\n",
    "    \"Salary\": [\"2000\", \"3000\", \"eight thousand\", \"2000\", \"5000\", \"6000\"],  # Wrong format\n",
    "    \"Date\": [\"2024-01-01\", \"2024-02-15\", \"15-03-2024\", \"2024/04/10\", None, \"2024-06-20\"]  # Inconsistent date format\n",
    "})\n",
    "\n",
    "# Check data types before cleaning\n",
    "print(\"Before Cleaning:\")\n",
    "print(data.dtypes)\n",
    "\n",
    "# Convert Age & Salary to numeric format (force errors to NaN, don't overwrite entire DataFrame)\n",
    "print(\"\\nConvert Age & Salary to Numeric Format\")\n",
    "data[\"Age\"] = pd.to_numeric(data[\"Age\"], errors=\"coerce\")\n",
    "data[\"Salary\"] = pd.to_numeric(data[\"Salary\"], errors=\"coerce\")\n",
    "\n",
    "print(\"\\nAfter Converting Age & Salary to Numeric:\")\n",
    "print(data)\n",
    "\n",
    "# Convert Date column to proper datetime format\n",
    "print(\"\\nConvert Date Column to Proper Date Format\")\n",
    "data[\"Date\"] = pd.to_datetime(data[\"Date\"], errors=\"coerce\", dayfirst=True)\n",
    "\n",
    "print(\"\\nAfter Converting Date Column:\")\n",
    "print(data)\n",
    "\n",
    "# Remove rows with NaN (invalid) values\n",
    "data_cleaned = data.dropna()\n",
    "\n",
    "print(\"\\nAfter Removing Rows with Wrong Data:\")\n",
    "print(data_cleaned)\n",
    "\n"
   ]
  },
  {
   "cell_type": "code",
   "execution_count": 61,
   "id": "1663956b-5294-463a-b6c4-c2f92ffae965",
   "metadata": {},
   "outputs": [
    {
     "name": "stdout",
     "output_type": "stream",
     "text": [
      "Series:\n",
      " a    10\n",
      "b    20\n",
      "c    30\n",
      "d    40\n",
      "dtype: int64\n",
      "\n",
      "DataFrame:\n",
      "       Name  Age      City\n",
      "0    Alice   25  New York\n",
      "1      Bob   30    London\n",
      "2  Charlie   40     Paris\n"
     ]
    }
   ],
   "source": [
    "import pandas as pd\n",
    "\n",
    "# Creating a Series\n",
    "s = pd.Series([10, 20, 30, 40], index=['a', 'b', 'c', 'd'])\n",
    "print(\"Series:\\n\", s)\n",
    "\n",
    "# Creating a DataFrame with all lists of same length\n",
    "data = {\n",
    "    'Name': ['Alice', 'Bob', 'Charlie'],\n",
    "    'Age': [25, 30, 40],\n",
    "    'City': ['New York', 'London', 'Paris']\n",
    "}\n",
    "df = pd.DataFrame(data)\n",
    "print(\"\\nDataFrame:\\n\", df)\n"
   ]
  },
  {
   "cell_type": "code",
   "execution_count": 63,
   "id": "6f8840f4-3f0d-48f4-919e-8c4e7f85aa1d",
   "metadata": {},
   "outputs": [
    {
     "name": "stdout",
     "output_type": "stream",
     "text": [
      "Full DataFrame:\n",
      "     Index      Customer Id First Name Last Name  \\\n",
      "0       1  DD37Cf93aecA6Dc     Sheryl    Baxter   \n",
      "1       2  1Ef7b82A4CAAD10    Preston    Lozano   \n",
      "2       3  6F94879bDAfE5a6        Roy     Berry   \n",
      "3       4  5Cef8BFA16c5e3c      Linda     Olsen   \n",
      "4       5  053d585Ab6b3159     Joanna    Bender   \n",
      "..    ...              ...        ...       ...   \n",
      "95     96  cb8E23e48d22Eae       Karl     Greer   \n",
      "96     97  CeD220bdAaCfaDf       Lynn  Atkinson   \n",
      "97     98  28CDbC0dFe4b1Db       Fred    Guerra   \n",
      "98     99  c23d1D9EE8DEB0A     Yvonne    Farmer   \n",
      "99    100  2354a0E336A91A1   Clarence    Haynes   \n",
      "\n",
      "                            Company               City  \\\n",
      "0                   Rasmussen Group       East Leonard   \n",
      "1                       Vega-Gentry  East Jimmychester   \n",
      "2                     Murillo-Perry      Isabelborough   \n",
      "3   Dominguez, Mcmillan and Donovan         Bensonview   \n",
      "4          Martin, Lang and Andrade     West Priscilla   \n",
      "..                              ...                ...   \n",
      "95                        Carey LLC       East Richard   \n",
      "96            Ware, Burns and Oneal       New Bradview   \n",
      "97                    Schmitt-Jones         Ortegaland   \n",
      "98               Fitzgerald-Harrell    Lake Elijahview   \n",
      "99               Le, Nash and Cross          Judymouth   \n",
      "\n",
      "                       Country                 Phone 1  \\\n",
      "0                        Chile            229.077.5154   \n",
      "1                     Djibouti              5153435776   \n",
      "2          Antigua and Barbuda                   -1199   \n",
      "3           Dominican Republic  001-808-617-6467x12895   \n",
      "4   Slovakia (Slovak Republic)  001-234-203-0635x76146   \n",
      "..                         ...                     ...   \n",
      "95                      Guyana     (188)169-1674x58692   \n",
      "96                   Sri Lanka                   -3769   \n",
      "97             Solomon Islands    +1-753-067-8419x7170   \n",
      "98                       Aruba           (530)311-9786   \n",
      "99                    Honduras           (753)813-6941   \n",
      "\n",
      "                   Phone 2                           Email Subscription Date  \\\n",
      "0         397.884.0519x718        zunigavanessa@smith.info        24-08-2020   \n",
      "1         686-620-1820x944                 vmata@colon.com        23-04-2021   \n",
      "2      (496)978-3969x58947             beckycarr@hogan.com        25-03-2020   \n",
      "3                    -9892     stanleyblackwell@benson.org        02-06-2020   \n",
      "4    001-199-446-3860x3486         colinalvarado@miles.net        17-04-2021   \n",
      "..                     ...                             ...               ...   \n",
      "95    001-841-293-3519x614                hhart@jensen.com        30-01-2022   \n",
      "96            605.413.3198               vkemp@ferrell.com        10-07-2021   \n",
      "97   +1-632-666-7507x92121                swagner@kane.org        18-09-2021   \n",
      "98  001-869-452-0943x12424  mccarthystephen@horn-green.biz        11-08-2021   \n",
      "99            783.639.1472          colleen91@faulkner.biz        11-03-2020   \n",
      "\n",
      "                              Website  \n",
      "0          http://www.stephenson.com/  \n",
      "1               http://www.hobbs.com/  \n",
      "2            http://www.lawrence.com/  \n",
      "3          http://www.good-lyons.com/  \n",
      "4         https://goodwin-ingram.com/  \n",
      "..                                ...  \n",
      "95            http://hayes-perez.com/  \n",
      "96         https://novak-allison.com/  \n",
      "97              https://www.ross.com/  \n",
      "98               http://watkins.info/  \n",
      "99  http://www.hatfield-saunders.net/  \n",
      "\n",
      "[100 rows x 12 columns]\n",
      "\n",
      "Available columns:\n",
      " Index(['Index', 'Customer Id', 'First Name', 'Last Name', 'Company', 'City',\n",
      "       'Country', 'Phone 1', 'Phone 2', 'Email', 'Subscription Date',\n",
      "       'Website'],\n",
      "      dtype='object')\n",
      "\n",
      "'Name' column not found. Please check column names.\n",
      "Using .iloc: 1Ef7b82A4CAAD10\n"
     ]
    }
   ],
   "source": [
    "import pandas as pd\n",
    "\n",
    "# Reading the CSV file\n",
    "df = pd.read_csv(r\"C:\\Users\\chira\\OneDrive\\Desktop\\Novem.Py\\customer-data.csv\")\n",
    "\n",
    "# Save it to another file (optional)\n",
    "df.to_csv('output.csv', index=False)\n",
    "\n",
    "# Show full DataFrame\n",
    "print(\"Full DataFrame:\\n\", df)\n",
    "\n",
    "# Check available column names\n",
    "print(\"\\nAvailable columns:\\n\", df.columns)\n",
    "\n",
    "# Indexing and Selecting Data Safely\n",
    "# Replace 'Name' with the correct column name if different\n",
    "if 'Name' in df.columns:\n",
    "    print(\"\\nUsing .loc:\", df.loc[0, 'Name'])\n",
    "else:\n",
    "    print(\"\\n'Name' column not found. Please check column names.\")\n",
    "\n",
    "# iloc is based on index position (row 1, column 1)\n",
    "print(\"Using .iloc:\", df.iloc[1, 1])\n",
    "\n"
   ]
  },
  {
   "cell_type": "code",
   "execution_count": null,
   "id": "ca3a0c15-74c3-4c6d-b042-5e5a0d09028f",
   "metadata": {},
   "outputs": [],
   "source": [
    "\n"
   ]
  },
  {
   "cell_type": "code",
   "execution_count": null,
   "id": "c90c027f-13ba-4bb9-b00b-468b22e40bb2",
   "metadata": {},
   "outputs": [],
   "source": []
  }
 ],
 "metadata": {
  "kernelspec": {
   "display_name": "Python [conda env:base] *",
   "language": "python",
   "name": "conda-base-py"
  },
  "language_info": {
   "codemirror_mode": {
    "name": "ipython",
    "version": 3
   },
   "file_extension": ".py",
   "mimetype": "text/x-python",
   "name": "python",
   "nbconvert_exporter": "python",
   "pygments_lexer": "ipython3",
   "version": "3.12.7"
  }
 },
 "nbformat": 4,
 "nbformat_minor": 5
}
