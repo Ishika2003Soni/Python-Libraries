{
 "cells": [
  {
   "cell_type": "markdown",
   "id": "61a7f7aa-43d8-4027-a3be-e3281b7d7b46",
   "metadata": {},
   "source": [
    "# NUMPY"
   ]
  },
  {
   "cell_type": "markdown",
   "id": "c47799b5-f096-4520-8088-54ce4ec81908",
   "metadata": {},
   "source": [
    "#### Numpy is the most important library in the Python. NumPy is a powerful Python library for numerical computing. It provides support for large, multi-dimensional arrays and matrices, along with mathematical functions to operate on these arrays efficiently. "
   ]
  },
  {
   "cell_type": "markdown",
   "id": "ac249dcf-e8f1-4605-97c4-e42a8e04375e",
   "metadata": {},
   "source": [
    "# Creating NumPy Arrays\n",
    "NumPy provides various methods to create arrays:"
   ]
  },
  {
   "cell_type": "code",
   "execution_count": null,
   "id": "717b5483-07be-42d3-a526-3c1a59271533",
   "metadata": {},
   "outputs": [],
   "source": [
    "import numpy as np\n",
    "print(np.zeros((3,3)))   # 3x3 array of zeros\n",
    "print(np.ones((2,4)))    # 2x4 array of ones\n",
    "print(np.arange(1,10,3)) \n",
    "print(np.eye(7))          # 7x7 array of identity\n",
    "A = np.array([[1,2],[3,4]])\n",
    "B = np.array([[5,6],[7,8]])\n",
    "print(np.dot(A,B))       # Matrix multiplication # 3x3 identity matrix\n",
    "print(np.full((3,3),9))   # Creates an array filled with a specific value\n",
    "print(np.linspace(0,10,6))  # Generates evenly spaced numbers between start and stop[np.linspace(start,stop,num)]\n",
    "print(np.arange(0,10,1))   # Creates an array with a range of values[np.arange(start,stop,step)]"
   ]
  },
  {
   "cell_type": "code",
   "execution_count": null,
   "id": "706ab487-556a-48f7-9afa-811fa074538f",
   "metadata": {},
   "outputs": [],
   "source": [
    "import numpy as np\n",
    "\n",
    "print(np.zeros((3, 3)))  # 3x3 array of zeros\n",
    "\n",
    "print(np.ones((2, 4)))   # 2x4 array of ones\n",
    "\n",
    "print(np.eye(3))         #3x3 array of identity\n",
    "\n",
    "A = np.array([[1, 2], [3, 4]])\n",
    "B = np.array([[5, 6], [7, 8]])\n",
    "print(np.dot(A, B))  # Matrix multiplication# 3x3 identity matrix\n",
    "\n",
    "print(np.full((3,3), 9)) #Creates an array filled with a specific value\n",
    "\n",
    "print(np.linspace(0, 10, 6)) #Generates evenly spaced numbers between start and stop [np.linspace(start, stop, num)]\n",
    "\n",
    "print(np.arange(0, 10, 1))   #Creates an array with a range of values [np.arange(start, stop, step)]\n",
    "\n",
    "print(np.random.rand(3,4))    #Generates a random array (uniform distribution)\n",
    "\n",
    "print(np.random.randn(3,3))    #Generates a random array (normal distribution)\n",
    "\n",
    "print(np.random.randint(1, 10, (3,3)))  #Generates random integers in a given range"
   ]
  },
  {
   "cell_type": "markdown",
   "id": "08f114eb-6f1d-4f84-957d-ff903459084c",
   "metadata": {},
   "source": [
    "## Important Array Methods\n",
    "NumPy provides several useful functions to analyze arrays:"
   ]
  },
  {
   "cell_type": "code",
   "execution_count": null,
   "id": "dbae033f-5a48-406e-92f0-0e725b3792cd",
   "metadata": {},
   "outputs": [],
   "source": [
    "# Functions\n",
    "import numpy as np\n",
    "arr = np.array([1,2,3,4,5,6,7,8,9,10,11,12,13,14,15])  #Creates a NumPy array from the list of numbers 1 to 15.\n",
    "a=np.split(arr,[0,2,3])  #Splits the array into multiple sub-arrays at the specified indices.\n",
    "print(a)\n",
    "print(arr.sum())  # Returns the sum of all elements in the array. Use: Total value or aggregation of numbers.\n",
    "print(arr.max())  # Returns the maximum value (largest element) in the array. Use: To find the highest number in data.\n",
    "print(arr.min())  # Returns the minimum value (smallest element) in the array. Use: To find the lowest number in data.\n",
    "print(arr.argmax())  # Returns the index of the maximum value in the array. Use: To know the position of the highest value.\n",
    "print(arr.argmin())  # Returns the index of the minimum value in the array. Use: To know the position of the lowest value.\n",
    "print(np.var(arr))   # Calculates the variance, i.e., how much the numbers vary from the mean. Use: Measures spread or dispersion of data.\n",
    "print(np.std(arr))   # Calculates the standard deviation, which is the square root of variance. Use: Indicates how tightly the data is clustered around the mean.\n",
    "print(np.median(arr))  # Returns the middle value of the array when sorted. Use: A good measure of central tendency, especially for skewed data.\n",
    "print(arr.mean())   # Returns the average (mean) of all the values in the array. Use: Common measure of central value in data."
   ]
  },
  {
   "cell_type": "code",
   "execution_count": null,
   "id": "bdeac40a-99c2-4eb4-9f51-f98a50f9fcfd",
   "metadata": {},
   "outputs": [],
   "source": [
    "import numpy as np\n",
    "arr = np.array([[1,2,3],[5,6,7]])\n",
    "print(arr.shape)      #Returns the shape of an array\n",
    "\n",
    "print(arr.reshape(3,2))  #Reshapes an array\n",
    "\n",
    "print(arr.ravel())   #Flattens a multi-dimensional array\n",
    "\n",
    "print(arr.T)   #Transposes an array (swaps rows & columns)\n",
    "\n",
    "print(np.expand_dims(arr, axis=0))  #Adds an extra dimension\n",
    "\n",
    "print(np.squeeze(arr))   #Removes single-dimensional entries"
   ]
  },
  {
   "cell_type": "markdown",
   "id": "a1d4316e-7439-420f-b8f8-96d9828314a5",
   "metadata": {},
   "source": [
    "## Difference Between Lists and NumPy Arrays\n",
    "NumPy arrays support element-wise operations, whereas lists behave differently."
   ]
  },
  {
   "cell_type": "code",
   "execution_count": 10,
   "id": "bcf6c9b2-b104-4763-8af3-098059e156a1",
   "metadata": {},
   "outputs": [
    {
     "name": "stdout",
     "output_type": "stream",
     "text": [
      "List addition: [1, 2, 3, 4, 1, 2, 3, 4]\n",
      "NumPy array addition: [2 4 6 8]\n",
      "List multiplication: [1, 2, 3, 4, 1, 2, 3, 4]\n",
      "NumPy array multiplication: [2 4 6 8]\n"
     ]
    }
   ],
   "source": [
    "# List vs NumPy array operations\n",
    "import numpy as np\n",
    "list1 = [1, 2, 3, 4]\n",
    "array1 = np.array([1, 2, 3, 4])\n",
    "\n",
    "print('List addition:', list1 + list1)  # Concatenation\n",
    "print('NumPy array addition:', array1 + array1)  # Element-wise addition\n",
    "\n",
    "print('List multiplication:', list1 * 2)  # Repeats list\n",
    "print('NumPy array multiplication:', array1 * 2)  # Element-wise multiplication"
   ]
  },
  {
   "cell_type": "markdown",
   "id": "3fb5510f-683a-40c6-8a91-8130d90a6050",
   "metadata": {},
   "source": [
    "## Broadcasting in NumPy\n",
    "Broadcasting allows NumPy to perform operations on arrays of different shapes."
   ]
  },
  {
   "cell_type": "code",
   "execution_count": 13,
   "id": "8680a46b-dd77-4f79-aff8-26126e1e2d65",
   "metadata": {},
   "outputs": [
    {
     "name": "stdout",
     "output_type": "stream",
     "text": [
      "[[2 4 6]\n",
      " [5 7 9]]\n"
     ]
    }
   ],
   "source": [
    "# Broadcasting example\n",
    "A = np.array([[1, 2, 3], [4, 5, 6]])\n",
    "B = np.array([1, 2, 3])  # Shape (3,)\n",
    "C = A + B  # Broadcasting\n",
    "print(C)"
   ]
  },
  {
   "cell_type": "markdown",
   "id": "aacbf9b4-8203-4e05-812d-df6afe06479f",
   "metadata": {},
   "source": [
    "## Row-Major and Column-Major Storage\n",
    "NumPy stores arrays in row-major order by default, but you can change it to column-major using order='F'."
   ]
  },
  {
   "cell_type": "code",
   "execution_count": 16,
   "id": "2c88ab38-f20b-460a-9033-ef0e29018a70",
   "metadata": {},
   "outputs": [
    {
     "name": "stdout",
     "output_type": "stream",
     "text": [
      "Row-major: [1 2 3 4]\n",
      "Column-major: [1 3 2 4]\n"
     ]
    }
   ],
   "source": [
    "# Row-major vs Column-major\n",
    "arr = np.array([[1, 2], [3, 4]], order='C')\n",
    "print('Row-major:', arr.flatten(order='C'))\n",
    "print('Column-major:', arr.flatten(order='F'))"
   ]
  },
  {
   "cell_type": "markdown",
   "id": "f55d5497-f72f-42df-a9ca-32276e6b3b97",
   "metadata": {},
   "source": [
    "## Array Attributes\n",
    "Some important attributes of NumPy arrays include:"
   ]
  },
  {
   "cell_type": "code",
   "execution_count": 19,
   "id": "af542ad6-6f2e-434b-aa9b-99868e927e64",
   "metadata": {},
   "outputs": [
    {
     "name": "stdout",
     "output_type": "stream",
     "text": [
      "Shape: (2, 3)\n",
      "Number of dimensions: 2\n"
     ]
    }
   ],
   "source": [
    "# Array attributes\n",
    "arr = np.array([[1, 2, 3], [4, 5, 6]])\n",
    "print('Shape:', arr.shape)\n",
    "print('Number of dimensions:', arr.ndim)"
   ]
  },
  {
   "cell_type": "markdown",
   "id": "496396ee-04b5-47bb-bca1-9c20bcd43344",
   "metadata": {},
   "source": [
    "## Concept of Axis in NumPy\n",
    "Axis 0 refers to rows (vertical operations), while Axis 1 refers to columns (horizontal operations)."
   ]
  },
  {
   "cell_type": "code",
   "execution_count": 22,
   "id": "900bf3d4-54ed-4378-bf9f-b785ff411bbf",
   "metadata": {},
   "outputs": [
    {
     "name": "stdout",
     "output_type": "stream",
     "text": [
      "Sum along axis 0: [4 6]\n",
      "Sum along axis 1: [3 7]\n"
     ]
    }
   ],
   "source": [
    "# Axis example\n",
    "arr = np.array([[1, 2], [3, 4]])\n",
    "print('Sum along axis 0:', arr.sum(axis=0))  # Column-wise sum\n",
    "print('Sum along axis 1:', arr.sum(axis=1))  # Row-wise sum"
   ]
  },
  {
   "cell_type": "markdown",
   "id": "d7ccd9e0-ce66-4c53-9de6-b170b2917e28",
   "metadata": {},
   "source": [
    "## Reshaping Arrays\n",
    "We can reshape arrays into different dimensions."
   ]
  },
  {
   "cell_type": "code",
   "execution_count": 25,
   "id": "e9353728-d79c-4953-8084-6f0f490d78a4",
   "metadata": {},
   "outputs": [
    {
     "name": "stdout",
     "output_type": "stream",
     "text": [
      "[[0 1 2]\n",
      " [3 4 5]]\n"
     ]
    }
   ],
   "source": [
    "# Reshaping example\n",
    "arr = np.arange(6).reshape(2, 3)\n",
    "print(arr)"
   ]
  },
  {
   "cell_type": "markdown",
   "id": "1e1d679d-a808-4b2f-b0d3-d0ecbb44e073",
   "metadata": {},
   "source": [
    "## Splitting Arrays\n",
    "NumPy provides functions to split arrays into multiple parts."
   ]
  },
  {
   "cell_type": "code",
   "execution_count": 32,
   "id": "4c711631-2f7e-4289-a020-a01fad4ede39",
   "metadata": {},
   "outputs": [
    {
     "name": "stdout",
     "output_type": "stream",
     "text": [
      "[array([1, 2]), array([3, 4]), array([5, 6])]\n"
     ]
    }
   ],
   "source": [
    "# Splitting an array\n",
    "arr = np.array([1, 2, 3, 4, 5, 6])\n",
    "split_arr = np.split(arr, 3)\n",
    "print(split_arr)"
   ]
  },
  {
   "cell_type": "markdown",
   "id": "ddef65fd-2f0a-44df-9f79-0c30e7d0c0fd",
   "metadata": {},
   "source": [
    "## hsplit vs vsplit\n",
    "hsplit() splits along columns (horizontally)\n",
    "vsplit() splits along rows (vertically)"
   ]
  },
  {
   "cell_type": "code",
   "execution_count": 36,
   "id": "718382b4-5d54-4984-8e02-df1bcdc81006",
   "metadata": {},
   "outputs": [
    {
     "name": "stdout",
     "output_type": "stream",
     "text": [
      "Horizontal Split: [array([[ 0,  1],\n",
      "       [ 4,  5],\n",
      "       [ 8,  9],\n",
      "       [12, 13]]), array([[ 2,  3],\n",
      "       [ 6,  7],\n",
      "       [10, 11],\n",
      "       [14, 15]])]\n",
      "Vertical Split: [array([[0, 1, 2, 3],\n",
      "       [4, 5, 6, 7]]), array([[ 8,  9, 10, 11],\n",
      "       [12, 13, 14, 15]])]\n"
     ]
    }
   ],
   "source": [
    "# hsplit vs vsplit\n",
    "arr = np.arange(16).reshape(4, 4)\n",
    "print('Horizontal Split:', np.hsplit(arr, 2))\n",
    "print('Vertical Split:', np.vsplit(arr, 2))"
   ]
  },
  {
   "cell_type": "markdown",
   "id": "da413860-2152-4fcb-a3fc-f089eb0f9162",
   "metadata": {},
   "source": [
    "## Stacking Arrays\n",
    "NumPy allows stacking arrays vertically and horizontally."
   ]
  },
  {
   "cell_type": "code",
   "execution_count": 39,
   "id": "43d96b9e-66fa-471c-a44a-c93e2d2d7f51",
   "metadata": {},
   "outputs": [
    {
     "name": "stdout",
     "output_type": "stream",
     "text": [
      "Horizontal Stack: [1 2 3 4 5 6]\n",
      "Vertical Stack: [[1 2 3]\n",
      " [4 5 6]]\n"
     ]
    }
   ],
   "source": [
    "# Stacking arrays\n",
    "a = np.array([1, 2, 3])\n",
    "b = np.array([4, 5, 6])\n",
    "print('Horizontal Stack:', np.hstack((a, b)))\n",
    "print('Vertical Stack:', np.vstack((a, b)))"
   ]
  },
  {
   "cell_type": "code",
   "execution_count": 3,
   "id": "4d05560f-be04-4c90-8bb7-6d67a31365cd",
   "metadata": {},
   "outputs": [
    {
     "name": "stdout",
     "output_type": "stream",
     "text": [
      "[[[[[[[[[[5]]]]]]]]]]\n"
     ]
    }
   ],
   "source": [
    "import numpy as np\n",
    "a = np.array([5],ndmin=10)\n",
    "print(a)"
   ]
  },
  {
   "cell_type": "code",
   "execution_count": 5,
   "id": "810c0249-165a-4c67-b495-8e2e7661acab",
   "metadata": {},
   "outputs": [
    {
     "name": "stdout",
     "output_type": "stream",
     "text": [
      "[1. 2. 3. 4. 5.]\n"
     ]
    }
   ],
   "source": [
    "###1. How do you create a NumPy array from a Python list and specify the data type?\n",
    "import numpy as np\n",
    "list = [1,2,3,4,5]\n",
    "arr = np.array(list,dtype = float)\n",
    "print(arr)"
   ]
  },
  {
   "cell_type": "code",
   "execution_count": 7,
   "id": "7f702a19-24fb-404f-80b5-13c93fb60a85",
   "metadata": {},
   "outputs": [
    {
     "name": "stdout",
     "output_type": "stream",
     "text": [
      "[ 0.  2.  4.  6.  8. 10.]\n",
      "[0 2 4 6 8]\n"
     ]
    }
   ],
   "source": [
    "###2.How do you generate an array of evenly spaced numbers?\n",
    "import numpy as np\n",
    "print(np.linspace(0,10,6)) #(start,stop,num)\n",
    "print(np.arange(0,10,2))   #(start,stop,step)"
   ]
  },
  {
   "cell_type": "code",
   "execution_count": 9,
   "id": "cf617a3c-aa14-4cd7-a98c-352a0c718fb1",
   "metadata": {},
   "outputs": [
    {
     "name": "stdout",
     "output_type": "stream",
     "text": [
      "[0 2 4 6 8]\n"
     ]
    }
   ],
   "source": [
    "###3. Using np.arange(start, stop, step)\n",
    "import numpy as np\n",
    "print(np.arange(0,10,2))"
   ]
  },
  {
   "cell_type": "code",
   "execution_count": 11,
   "id": "2fe1e5c7-0e83-42f2-91cc-117a14fff5ab",
   "metadata": {},
   "outputs": [
    {
     "name": "stdout",
     "output_type": "stream",
     "text": [
      "[ 0. 10.]\n"
     ]
    }
   ],
   "source": [
    "###4. Using np.linspace(start, stop, num)\n",
    "import numpy as np\n",
    "print(np.linspace(0,10,2))"
   ]
  },
  {
   "cell_type": "code",
   "execution_count": 13,
   "id": "982834d5-daed-4cf5-bb02-9feff4bd62c2",
   "metadata": {},
   "outputs": [
    {
     "name": "stdout",
     "output_type": "stream",
     "text": [
      "[[1 2 3 4 5 6 7 8 9]]\n",
      "[[1 2 3]\n",
      " [4 5 6]\n",
      " [7 8 9]]\n"
     ]
    }
   ],
   "source": [
    "###5. How to reshape a NumPy array?\n",
    "import numpy as np\n",
    "arr = np.array([[1,2,3],[4,5,6],[7,8,9]])\n",
    "print(arr.reshape(1,9))\n",
    "print(arr.reshape(3,3))"
   ]
  },
  {
   "cell_type": "code",
   "execution_count": 15,
   "id": "11071a41-a28c-4ebe-828b-85651c14caec",
   "metadata": {},
   "outputs": [
    {
     "name": "stdout",
     "output_type": "stream",
     "text": [
      "[1 2 3 4 5 6 7 8 9]\n",
      "[1 2 3 4 5 6 7 8 9]\n"
     ]
    }
   ],
   "source": [
    "#6. How do you flatten a multi-dimensional NumPy array?\n",
    "import numpy as np\n",
    "arr = np.array([[1,2,3],[4,5,6],[7,8,9]])\n",
    "print(arr.flatten())\n",
    "print(arr.ravel())"
   ]
  },
  {
   "cell_type": "code",
   "execution_count": 17,
   "id": "e3d15b1c-00c0-4742-8d6d-9b730e82b6dc",
   "metadata": {},
   "outputs": [
    {
     "name": "stdout",
     "output_type": "stream",
     "text": [
      "[[0.82589366 0.48402794]\n",
      " [0.4176692  0.07883327]]\n"
     ]
    },
    {
     "data": {
      "text/plain": [
       "array([[9, 6],\n",
       "       [3, 3]])"
      ]
     },
     "execution_count": 17,
     "metadata": {},
     "output_type": "execute_result"
    }
   ],
   "source": [
    "#7. How to generate a NumPy array of random numbers?\n",
    "import numpy as np\n",
    "print(np.random.rand(2,2))  # 2x2 matrix with random numbers between 0 and 1\n",
    "np.random.randint(1, 10, (2, 2)) # 2x2 matrix with random integers from 1 to 9"
   ]
  },
  {
   "cell_type": "code",
   "execution_count": 19,
   "id": "e335884e-d162-49f0-a0ef-67ca6a2b892b",
   "metadata": {},
   "outputs": [],
   "source": [
    "# 8. How to compute the mean, median, and standard deviation of an array?\n",
    "import numpy as np"
   ]
  },
  {
   "cell_type": "code",
   "execution_count": 21,
   "id": "ab7a3b09-4f1d-40fe-b4f6-ff38e2f7653b",
   "metadata": {},
   "outputs": [
    {
     "name": "stdout",
     "output_type": "stream",
     "text": [
      "[0 1 4]\n"
     ]
    }
   ],
   "source": [
    "#1. Find indices of non zeros elements from [1,2,0,0,4,0]\n",
    "import numpy as np\n",
    "arr = np.array([1,2,0,0,4,0])\n",
    "a = np.nonzero(arr)\n",
    "print(a[0])"
   ]
  },
  {
   "cell_type": "code",
   "execution_count": 23,
   "id": "3db72982-64e5-4e1a-b2ba-08eeb5a04da1",
   "metadata": {},
   "outputs": [
    {
     "name": "stdout",
     "output_type": "stream",
     "text": [
      "[0. 0. 0. 0. 0. 0. 0. 0. 0. 0.]\n"
     ]
    }
   ],
   "source": [
    "#2. Create a null vector of size 10\n",
    "import numpy as np\n",
    "null_vector = np.zeros(10)\n",
    "print(null_vector)"
   ]
  },
  {
   "cell_type": "code",
   "execution_count": 25,
   "id": "8b657612-6e6a-4c80-8f7c-69a57edc0c1c",
   "metadata": {},
   "outputs": [
    {
     "name": "stdout",
     "output_type": "stream",
     "text": [
      "[0. 0. 0. 0. 1. 0. 0. 0. 0. 0.]\n"
     ]
    }
   ],
   "source": [
    "#3. Create a null vector of size 10 but the 5th value is one\n",
    "import numpy as np\n",
    "null_vector = np.zeros(10)\n",
    "null_vector[4] = 1\n",
    "print(null_vector)"
   ]
  },
  {
   "cell_type": "code",
   "execution_count": 27,
   "id": "95cfb972-721e-49dd-aeaa-cabf06677c53",
   "metadata": {},
   "outputs": [
    {
     "name": "stdout",
     "output_type": "stream",
     "text": [
      "[0, 4, 0, 0, 2, 1]\n"
     ]
    }
   ],
   "source": [
    "#4. Reverse a vector (first element becomes last)\n",
    "import numpy as np\n",
    "vector = [1,2,0,0,4,0]\n",
    "rev = vector[::-1]\n",
    "print(rev)  "
   ]
  },
  {
   "cell_type": "code",
   "execution_count": 29,
   "id": "4c9f76a3-7b78-431b-b916-b0e6ee4cb049",
   "metadata": {},
   "outputs": [
    {
     "name": "stdout",
     "output_type": "stream",
     "text": [
      "[[0 1 2]\n",
      " [3 4 5]\n",
      " [6 7 8]]\n"
     ]
    }
   ],
   "source": [
    "#5. Create a 3x3 matrix with values ranging from 0 to 8\n",
    "#matrix = [[0,1,2],[3,4,5],[6,7,8]]\n",
    "#for row in matrix:\n",
    "#    print(row)\n",
    "\n",
    "#OR\n",
    "#Using range() and reshape()\n",
    "import numpy as np\n",
    "matrix = np.reshape(range(9),(3,3))\n",
    "print(matrix)"
   ]
  },
  {
   "cell_type": "code",
   "execution_count": 31,
   "id": "ab8b9400-a98e-4049-b29a-b9f6e85a7643",
   "metadata": {},
   "outputs": [
    {
     "name": "stdout",
     "output_type": "stream",
     "text": [
      "[[1. 0. 0.]\n",
      " [0. 1. 0.]\n",
      " [0. 0. 1.]]\n"
     ]
    }
   ],
   "source": [
    "#6. Create a 3x3 identity matrix\n",
    "import numpy as np\n",
    "print(np.eye(3))"
   ]
  },
  {
   "cell_type": "code",
   "execution_count": 33,
   "id": "ebc83d8c-6610-413e-9481-e5c752ad7479",
   "metadata": {},
   "outputs": [
    {
     "name": "stdout",
     "output_type": "stream",
     "text": [
      "[[5 1 4 8 4 4 6 7 2 5]\n",
      " [8 3 7 0 7 8 3 8 4 2]\n",
      " [7 0 9 8 8 2 1 3 8 8]\n",
      " [0 7 3 3 2 3 8 6 9 3]\n",
      " [9 8 4 5 3 1 1 4 4 2]\n",
      " [1 8 7 9 3 2 2 7 9 0]\n",
      " [0 1 4 5 7 6 7 8 2 7]\n",
      " [0 8 4 8 5 8 8 5 1 6]\n",
      " [2 3 3 1 6 3 0 0 4 9]\n",
      " [6 0 1 6 8 5 3 1 6 0]]\n",
      "9\n",
      "0\n"
     ]
    }
   ],
   "source": [
    "#7. Create a 10x10 array with random values and find the maxmimum and minimum values\n",
    "import numpy as np\n",
    "arr = np.random.randint(0,10,(10,10))\n",
    "print(arr)\n",
    "print(np.max(arr))\n",
    "print(np.min(arr))"
   ]
  },
  {
   "cell_type": "code",
   "execution_count": 35,
   "id": "39ef9dfd-ab3f-49bc-841a-b31dba1da93a",
   "metadata": {},
   "outputs": [
    {
     "name": "stdout",
     "output_type": "stream",
     "text": [
      "[0.97702661 0.42249707 0.31585722 0.81144423 0.14527492 0.82775776\n",
      " 0.76139852 0.14781556 0.91996696 0.12197857 0.14927893 0.095019\n",
      " 0.76009058 0.01113224 0.85919698 0.73648729 0.69415619 0.8047101\n",
      " 0.92191877 0.05948469 0.53244536 0.32178456 0.87249349 0.63031073\n",
      " 0.79874047 0.43066117 0.95076143 0.88989015 0.29838027 0.4806676 ]\n",
      "0.5582875807850333\n"
     ]
    }
   ],
   "source": [
    "#8.Create a random vector of size 30 and find the mean value\n",
    "import numpy as np\n",
    "vector = np.random.random(30)\n",
    "mean_value = np.mean(vector)\n",
    "print(vector)\n",
    "print(mean_value)"
   ]
  },
  {
   "cell_type": "code",
   "execution_count": 37,
   "id": "09cb5811-aac6-4f64-9574-2e0277136a28",
   "metadata": {},
   "outputs": [
    {
     "name": "stdout",
     "output_type": "stream",
     "text": [
      "[[1. 1. 1. 1. 1.]\n",
      " [1. 0. 0. 0. 1.]\n",
      " [1. 0. 0. 0. 1.]\n",
      " [1. 0. 0. 0. 1.]\n",
      " [1. 1. 1. 1. 1.]]\n"
     ]
    }
   ],
   "source": [
    "#9. Create a 2d array with 1 on the border and 0 inside\n",
    "import numpy as np\n",
    "# Create 2D array with 1s on the border and 0s inside\n",
    "array = np.ones((5, 5))#Is line mein ek 5x5 ka array banaya gaya hai jisme saare elements 1 honge. Matlab array ka har element initial value 1 hoga\n",
    "array[1:-1, 1:-1] = 0 #Yeh line kaafi important hai. Iska matlab hai, jo inner part of the array hai (jo borders ke andar hai), usko 0 set kar do. Matlab, 1 ke border ke andar jo bhi values hain, unko 0 bana diya gaya hai.\n",
    "print(array)"
   ]
  },
  {
   "cell_type": "code",
   "execution_count": 39,
   "id": "10d683ad-0502-44c8-8e92-060492ffbf35",
   "metadata": {},
   "outputs": [
    {
     "name": "stdout",
     "output_type": "stream",
     "text": [
      "[[1 2 3]\n",
      " [4 5 6]]\n",
      "(2, 3)\n",
      "[[1 4]\n",
      " [2 5]\n",
      " [3 6]]\n",
      "[[1 2 3 4 5 6]]\n",
      "[[1 2 3]\n",
      " [4 5 6]]\n"
     ]
    }
   ],
   "source": [
    "import numpy as np\n",
    "arr = np.array([[1,2,3],[4,5,6]])\n",
    "print(arr)\n",
    "print(arr.shape)\n",
    "print(arr.T)\n",
    "print(arr.reshape(1,6))\n",
    "print(arr.reshape(2,3))"
   ]
  },
  {
   "cell_type": "code",
   "execution_count": 99,
   "id": "fed8a794-0997-4fd8-a3f6-b0695acebb94",
   "metadata": {},
   "outputs": [
    {
     "name": "stdout",
     "output_type": "stream",
     "text": [
      "[1 5 8 1 1 7 4 8 8 3 9 3 0 5 6 6 1 7 5 0 1 5 4 1]\n"
     ]
    }
   ],
   "source": [
    "#########################Advanced Questions###################################\n",
    "### 1 . Array Manipulation\n",
    "### 🔹 Generate a 5×5 matrix where elements on the border are 1, and the inside is 0.\n",
    "# Expected Output:\n",
    "# [[1. 1. 1. 1. 1.]\n",
    "#  [1. 0. 0. 0. 1.]\n",
    "#  [1. 0. 0. 0. 1.]\n",
    "#  [1. 0. 0. 0. 1.]\n",
    "#  [1. 1. 1. 1. 1.]]\n",
    "# 🔹 Reshape a 1D array of 20 elements into a 4×5 matrix without using reshape().\n",
    "#🔹 Rotate a given 4×4 NumPy array by 90 degrees counterclockwise.\n",
    "#🔹 Flatten a 3D NumPy array into a 1D array.\n",
    "import numpy as np\n",
    "###🔹 Generate a 5×5 matrix where elements on the border are 1, and the inside is 0.\n",
    "array = np.ones((5,5))\n",
    "array [1:-1,1:-1]=0\n",
    "print(array)\n",
    "\n",
    "\n",
    "###🔹 Reshape a 1D array of 20 elements into a 4×5 matrix without using reshape().\n",
    "arr = np.arange(20)  # Creating a 1D array with 20 elements\n",
    "rows, cols = 4, 5\n",
    "matrix = [arr[i * cols:(i + 1) * cols] for i in range(rows)]\n",
    "print(np.array(matrix))\n",
    "\n",
    "###🔹 Rotate a given 4×4 NumPy array by 90 degrees counterclockwise.\n",
    "array = np.arange(16).reshape(4, 4)  # Sample 4×4 array\n",
    "rotated = np.rot90(array)  # Rotate 90° counterclockwise\n",
    "print(rotated)\n",
    "\n",
    "###🔹 Flatten a 3D NumPy array into a 1D array.\n",
    "array_3d = np.random.randint(0, 10, (2, 3, 4))  # Example 3D array (2×3×4)\n",
    "flattened = array_3d.flatten()  # Convert to 1D\n",
    "print(flattened)\n"
   ]
  },
  {
   "cell_type": "code",
   "execution_count": 103,
   "id": "ecc86abc-e1db-46c1-b406-2e0ce16b627b",
   "metadata": {},
   "outputs": [
    {
     "name": "stdout",
     "output_type": "stream",
     "text": [
      "[[1. 1. 1. 1.]\n",
      " [1. 1. 1. 1.]\n",
      " [1. 1. 1. 1.]\n",
      " [1. 1. 1. 1.]]\n"
     ]
    }
   ],
   "source": [
    "import numpy as np\n",
    "arr = np.ones((4,4))\n",
    "print(arr)"
   ]
  },
  {
   "cell_type": "markdown",
   "id": "8fb3d9e4-d0a7-4b1a-a286-f689329a89b7",
   "metadata": {},
   "source": [
    "#2. Mathematical Operations\n",
    "#🔹 Create a 5×5 random matrix and normalize it (scale values between 0 and 1).\n",
    "import numpy as np\n",
    "matrix = np.random.rand(5,5)\n",
    "normalized_matrix = (matrix - matrix.min()) / (matrix.max() - matrix.min())\n",
    "print(matrix)\n",
    "print(normalized_matrix)\n",
    "\n",
    "#🔹 Find the row-wise and column-wise sum of a given matrix.\n",
    "matrix = np.random.randint(1,10,(3,3))\n",
    "row_sum = matrix.sum(axis=1)\n",
    "col_sum = matrix.sum(axis=0)\n",
    "print(matrix)\n",
    "print(row_sum)\n",
    "print(col_sum)\n",
    "\n",
    "#🔹 Compute the dot product and cross product of two 3D vectors.\n",
    "vector1 = np.array([1,2,3])\n",
    "vector2 = np.array([4,5,6])\n",
    "dot_product = np.dot(vector1,vector2)\n",
    "cross_product = np.cross(vector1,vector2)\n",
    "print(dot_product)\n",
    "print(cross_product)\n",
    "\n",
    "#🔹 Create a function that computes the Euclidean distance between two NumPy arrays.\n",
    "def euclidean_distance(a, b):\n",
    "   return np.sqrt(np.sum((a - b) ** 2))\n",
    "Example arrays\n",
    "A = np.array([1, 2, 3])\n",
    "B = np.array([4, 5, 6])\n",
    "Compute Euclidean distance\n",
    "distance = euclidean_distance(A, B)\n",
    "print(\"Euclidean Distance:\", distance)\n"
   ]
  },
  {
   "cell_type": "code",
   "execution_count": null,
   "id": "54c17efc-2796-403d-baf4-eac2d67476ef",
   "metadata": {},
   "outputs": [],
   "source": []
  }
 ],
 "metadata": {
  "kernelspec": {
   "display_name": "Python [conda env:base] *",
   "language": "python",
   "name": "conda-base-py"
  },
  "language_info": {
   "codemirror_mode": {
    "name": "ipython",
    "version": 3
   },
   "file_extension": ".py",
   "mimetype": "text/x-python",
   "name": "python",
   "nbconvert_exporter": "python",
   "pygments_lexer": "ipython3",
   "version": "3.12.7"
  }
 },
 "nbformat": 4,
 "nbformat_minor": 5
}
